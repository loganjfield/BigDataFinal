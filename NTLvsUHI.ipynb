{
  "cells": [
    {
      "metadata": {
        "trusted": true
      },
      "cell_type": "code",
      "source": "i = i + 1\nwith open('NTLUSA.xlsx', 'r') as t1, open('sdei-global-uhi-2013.csv', 'r') as t2:\n    fileone = t1.readlines()\n    filetwo = t2.readlines()\n\nwith open('newfiledoc.csv', 'w') as outFile:\n    for line in filetwo:\n        if line not in fileone:\n            outFile.write(line)\n            \n            print ()",
      "execution_count": null,
      "outputs": []
    },
    {
      "metadata": {
        "trusted": true
      },
      "cell_type": "code",
      "source": "data_corrupt = []\ndata_original = []\n\nf = open ('NTLUSA.xlsx', \"r\")\nfor line in f:\n    linedata = line.split(',') # split and create a list of values for each line\n        \n    data_corrupt= data_corrupt[:]\n    data_corrupt.append(linedata) # save the data to every line\n    print(data_corrupt) #see your result\n    f.close()",
      "execution_count": null,
      "outputs": []
    },
    {
      "metadata": {
        "trusted": true
      },
      "cell_type": "code",
      "source": "import pandas as pd\ndf = pd.read_csv (r'NTLUSA.xlsx')\nrf = pd.read_csv (r'sdei-global-uhi-2013.csv')\ndf[A1:A1048576].sum()\nrf[J1:J31501].sum()\nprint (df)\nprint(rf)\n",
      "execution_count": null,
      "outputs": []
    },
    {
      "metadata": {
        "trusted": true
      },
      "cell_type": "code",
      "source": "# Compare values\n# Compare two lists -> identify the correct cells for each category\ncorrectCell= 0\ntotalCell=0\n# create loop\ncorrectCell= 0\ntotalCell=0\ni = 0\n# while i < len(data_original): \n    \n        data_corrupt_item = data_corrupt_row[j] # every individual values for the row\n        data_original_item = \n        if data_corrupt_item == data_original_item: # compare to see if the are the same\n            correctCell = correctCell+1 # if same, then add correctCell by 1\n        totalCell = \n        j = j+1\n    i = i+1\naccuracy = \nprint(accuracy)",
      "execution_count": null,
      "outputs": []
    }
  ],
  "metadata": {
    "kernelspec": {
      "name": "python36",
      "display_name": "Python 3.6",
      "language": "python"
    },
    "language_info": {
      "mimetype": "text/x-python",
      "nbconvert_exporter": "python",
      "name": "python",
      "pygments_lexer": "ipython3",
      "version": "3.6.6",
      "file_extension": ".py",
      "codemirror_mode": {
        "version": 3,
        "name": "ipython"
      }
    }
  },
  "nbformat": 4,
  "nbformat_minor": 2
}